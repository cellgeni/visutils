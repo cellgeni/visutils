{
 "cells": [
  {
   "cell_type": "code",
   "execution_count": null,
   "id": "identified-offer",
   "metadata": {},
   "outputs": [],
   "source": [
    "# For QC:\n",
    "# artificially make rotation and show how to identify it (both manually and automatically)\n",
    "# download another visium, swap images (+rotation); show how to identify them (both manually and automatically)"
   ]
  }
 ],
 "metadata": {
  "kernelspec": {
   "display_name": "R",
   "language": "R",
   "name": "ir"
  },
  "language_info": {
   "codemirror_mode": "r",
   "file_extension": ".r",
   "mimetype": "text/x-r-source",
   "name": "R",
   "pygments_lexer": "r",
   "version": "4.0.4"
  }
 },
 "nbformat": 4,
 "nbformat_minor": 5
}
